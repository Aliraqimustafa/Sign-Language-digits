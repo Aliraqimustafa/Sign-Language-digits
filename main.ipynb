{
 "cells": [
  {
   "cell_type": "code",
   "execution_count": 1,
   "id": "c071a735",
   "metadata": {},
   "outputs": [],
   "source": [
    "import numpy as np\n",
    "import pandas as pd\n",
    "import cv2\n",
    "import mediapipe as mp\n",
    "from PIL import Image\n",
    "import warnings\n",
    "import time\n",
    "import os\n",
    "from sklearn.model_selection import train_test_split\n",
    "from sklearn.ensemble import RandomForestClassifier\n",
    "\n",
    "mp_drawing = mp.solutions.drawing_utils\n",
    "mp_hands = mp.solutions.hands\n",
    "hands = mp_hands.Hands(static_image_mode=False,max_num_hands=2,min_detection_confidence=0.5)\n",
    "\n",
    "warnings.filterwarnings(\"ignore\", category=UserWarning, module=\"sklearn\")"
   ]
  },
  {
   "cell_type": "code",
   "execution_count": 2,
   "id": "2d4844bd",
   "metadata": {},
   "outputs": [],
   "source": [
    "paths = []\n",
    "cat = []\n",
    "\n",
    "path1 = 'Sign-Language-Digits-Dataset-master/Dataset/'\n",
    "\n",
    "for i in os.listdir(path1):\n",
    "    path2 = path1 + i + '/'\n",
    "    for j in os.listdir(path2):\n",
    "        path3 = path2 +  j\n",
    "        paths.append(path3)\n",
    "        cat.append(i)"
   ]
  },
  {
   "cell_type": "code",
   "execution_count": 3,
   "id": "53d6a127",
   "metadata": {},
   "outputs": [
    {
     "data": {
      "text/plain": [
       "'Sign-Language-Digits-Dataset-master/Dataset/0/IMG_1118.JPG'"
      ]
     },
     "execution_count": 3,
     "metadata": {},
     "output_type": "execute_result"
    }
   ],
   "source": [
    "paths[0]"
   ]
  },
  {
   "cell_type": "code",
   "execution_count": 4,
   "id": "db3c2584",
   "metadata": {},
   "outputs": [
    {
     "data": {
      "text/html": [
       "<div>\n",
       "<style scoped>\n",
       "    .dataframe tbody tr th:only-of-type {\n",
       "        vertical-align: middle;\n",
       "    }\n",
       "\n",
       "    .dataframe tbody tr th {\n",
       "        vertical-align: top;\n",
       "    }\n",
       "\n",
       "    .dataframe thead th {\n",
       "        text-align: right;\n",
       "    }\n",
       "</style>\n",
       "<table border=\"1\" class=\"dataframe\">\n",
       "  <thead>\n",
       "    <tr style=\"text-align: right;\">\n",
       "      <th></th>\n",
       "      <th>paths</th>\n",
       "      <th>cat</th>\n",
       "    </tr>\n",
       "  </thead>\n",
       "  <tbody>\n",
       "    <tr>\n",
       "      <th>0</th>\n",
       "      <td>Sign-Language-Digits-Dataset-master/Dataset/0/...</td>\n",
       "      <td>0</td>\n",
       "    </tr>\n",
       "    <tr>\n",
       "      <th>1</th>\n",
       "      <td>Sign-Language-Digits-Dataset-master/Dataset/0/...</td>\n",
       "      <td>0</td>\n",
       "    </tr>\n",
       "    <tr>\n",
       "      <th>2</th>\n",
       "      <td>Sign-Language-Digits-Dataset-master/Dataset/0/...</td>\n",
       "      <td>0</td>\n",
       "    </tr>\n",
       "    <tr>\n",
       "      <th>3</th>\n",
       "      <td>Sign-Language-Digits-Dataset-master/Dataset/0/...</td>\n",
       "      <td>0</td>\n",
       "    </tr>\n",
       "    <tr>\n",
       "      <th>4</th>\n",
       "      <td>Sign-Language-Digits-Dataset-master/Dataset/0/...</td>\n",
       "      <td>0</td>\n",
       "    </tr>\n",
       "  </tbody>\n",
       "</table>\n",
       "</div>"
      ],
      "text/plain": [
       "                                               paths cat\n",
       "0  Sign-Language-Digits-Dataset-master/Dataset/0/...   0\n",
       "1  Sign-Language-Digits-Dataset-master/Dataset/0/...   0\n",
       "2  Sign-Language-Digits-Dataset-master/Dataset/0/...   0\n",
       "3  Sign-Language-Digits-Dataset-master/Dataset/0/...   0\n",
       "4  Sign-Language-Digits-Dataset-master/Dataset/0/...   0"
      ]
     },
     "execution_count": 4,
     "metadata": {},
     "output_type": "execute_result"
    }
   ],
   "source": [
    "df = pd.DataFrame([])\n",
    "df['paths'] = paths\n",
    "df['cat'] = cat\n",
    "df.head()"
   ]
  },
  {
   "cell_type": "code",
   "execution_count": 5,
   "id": "d543e07f",
   "metadata": {},
   "outputs": [
    {
     "data": {
      "text/plain": [
       "(2062, 2)"
      ]
     },
     "execution_count": 5,
     "metadata": {},
     "output_type": "execute_result"
    }
   ],
   "source": [
    "df.shape"
   ]
  },
  {
   "cell_type": "code",
   "execution_count": 6,
   "id": "5fb944f2",
   "metadata": {},
   "outputs": [
    {
     "data": {
      "text/plain": [
       "0"
      ]
     },
     "execution_count": 6,
     "metadata": {},
     "output_type": "execute_result"
    }
   ],
   "source": [
    "df.isnull().sum().sum()"
   ]
  },
  {
   "cell_type": "code",
   "execution_count": 40,
   "id": "72cf33b5",
   "metadata": {},
   "outputs": [],
   "source": [
    "def get_x_y(image):\n",
    "    image = np.array(image).squeeze().astype(np.uint8)\n",
    "    x_y = []\n",
    "    image_rgb = cv2.cvtColor(image, cv2.COLOR_BGR2RGB)\n",
    "    results = hands.process(image_rgb)\n",
    "    if results.multi_hand_landmarks:\n",
    "        for hand_landmarks in results.multi_hand_landmarks:\n",
    "            for landmark in hand_landmarks.landmark:\n",
    "                x = float(landmark.x * image.shape[1])\n",
    "                y = float(landmark.y * image.shape[0])\n",
    "                x_y.append(x)\n",
    "                x_y.append(y)\n",
    "                if len(x_y)>=(21*2):\n",
    "                    break\n",
    "            break\n",
    "    return x_y"
   ]
  },
  {
   "cell_type": "code",
   "execution_count": 41,
   "id": "53bfa2e0",
   "metadata": {
    "scrolled": true
   },
   "outputs": [
    {
     "name": "stdout",
     "output_type": "stream",
     "text": [
      "0\n",
      "200\n",
      "400\n",
      "600\n",
      "800\n",
      "1000\n",
      "1200\n",
      "1400\n",
      "1600\n",
      "1800\n",
      "2000\n"
     ]
    }
   ],
   "source": [
    "x_y = []\n",
    "for i,path in enumerate(df.paths):\n",
    "    image = cv2.imread(path)\n",
    "    x_y.append(get_x_y(image))\n",
    "    if i%200 == 0:\n",
    "        print(i)"
   ]
  },
  {
   "cell_type": "code",
   "execution_count": 9,
   "id": "a9175695",
   "metadata": {},
   "outputs": [
    {
     "data": {
      "text/plain": [
       "2062"
      ]
     },
     "execution_count": 9,
     "metadata": {},
     "output_type": "execute_result"
    }
   ],
   "source": [
    "len(x_y)"
   ]
  },
  {
   "cell_type": "code",
   "execution_count": 42,
   "id": "7a538dc6",
   "metadata": {},
   "outputs": [],
   "source": [
    "df2 = pd.DataFrame(x_y)\n",
    "df2['cat'] = [int(i) for i in cat]"
   ]
  },
  {
   "cell_type": "code",
   "execution_count": 43,
   "id": "2d465a4e",
   "metadata": {},
   "outputs": [
    {
     "data": {
      "text/html": [
       "<div>\n",
       "<style scoped>\n",
       "    .dataframe tbody tr th:only-of-type {\n",
       "        vertical-align: middle;\n",
       "    }\n",
       "\n",
       "    .dataframe tbody tr th {\n",
       "        vertical-align: top;\n",
       "    }\n",
       "\n",
       "    .dataframe thead th {\n",
       "        text-align: right;\n",
       "    }\n",
       "</style>\n",
       "<table border=\"1\" class=\"dataframe\">\n",
       "  <thead>\n",
       "    <tr style=\"text-align: right;\">\n",
       "      <th></th>\n",
       "      <th>0</th>\n",
       "      <th>1</th>\n",
       "      <th>2</th>\n",
       "      <th>3</th>\n",
       "      <th>4</th>\n",
       "      <th>5</th>\n",
       "      <th>6</th>\n",
       "      <th>7</th>\n",
       "      <th>8</th>\n",
       "      <th>9</th>\n",
       "      <th>...</th>\n",
       "      <th>33</th>\n",
       "      <th>34</th>\n",
       "      <th>35</th>\n",
       "      <th>36</th>\n",
       "      <th>37</th>\n",
       "      <th>38</th>\n",
       "      <th>39</th>\n",
       "      <th>40</th>\n",
       "      <th>41</th>\n",
       "      <th>cat</th>\n",
       "    </tr>\n",
       "  </thead>\n",
       "  <tbody>\n",
       "    <tr>\n",
       "      <th>0</th>\n",
       "      <td>60.258842</td>\n",
       "      <td>60.067773</td>\n",
       "      <td>50.450188</td>\n",
       "      <td>60.087812</td>\n",
       "      <td>44.393954</td>\n",
       "      <td>53.818685</td>\n",
       "      <td>39.834005</td>\n",
       "      <td>46.800876</td>\n",
       "      <td>37.263429</td>\n",
       "      <td>41.101778</td>\n",
       "      <td>...</td>\n",
       "      <td>36.581647</td>\n",
       "      <td>58.969092</td>\n",
       "      <td>33.241946</td>\n",
       "      <td>51.468939</td>\n",
       "      <td>24.460950</td>\n",
       "      <td>45.609537</td>\n",
       "      <td>29.685414</td>\n",
       "      <td>44.517994</td>\n",
       "      <td>36.232677</td>\n",
       "      <td>0</td>\n",
       "    </tr>\n",
       "    <tr>\n",
       "      <th>1</th>\n",
       "      <td>52.128100</td>\n",
       "      <td>67.667019</td>\n",
       "      <td>58.241397</td>\n",
       "      <td>57.265806</td>\n",
       "      <td>58.810806</td>\n",
       "      <td>44.372463</td>\n",
       "      <td>61.129123</td>\n",
       "      <td>35.327256</td>\n",
       "      <td>60.301405</td>\n",
       "      <td>26.866227</td>\n",
       "      <td>...</td>\n",
       "      <td>24.404177</td>\n",
       "      <td>40.061870</td>\n",
       "      <td>43.361127</td>\n",
       "      <td>43.440586</td>\n",
       "      <td>27.744901</td>\n",
       "      <td>51.131016</td>\n",
       "      <td>23.653562</td>\n",
       "      <td>55.442214</td>\n",
       "      <td>25.124198</td>\n",
       "      <td>0</td>\n",
       "    </tr>\n",
       "    <tr>\n",
       "      <th>2</th>\n",
       "      <td>54.445529</td>\n",
       "      <td>81.516099</td>\n",
       "      <td>60.392880</td>\n",
       "      <td>63.317293</td>\n",
       "      <td>57.927614</td>\n",
       "      <td>49.702826</td>\n",
       "      <td>58.154690</td>\n",
       "      <td>39.177284</td>\n",
       "      <td>58.375996</td>\n",
       "      <td>30.351037</td>\n",
       "      <td>...</td>\n",
       "      <td>26.893157</td>\n",
       "      <td>44.341660</td>\n",
       "      <td>50.814241</td>\n",
       "      <td>47.390133</td>\n",
       "      <td>32.168192</td>\n",
       "      <td>53.786910</td>\n",
       "      <td>26.921341</td>\n",
       "      <td>58.256495</td>\n",
       "      <td>26.947659</td>\n",
       "      <td>0</td>\n",
       "    </tr>\n",
       "    <tr>\n",
       "      <th>3</th>\n",
       "      <td>47.273743</td>\n",
       "      <td>83.688843</td>\n",
       "      <td>58.359176</td>\n",
       "      <td>66.002929</td>\n",
       "      <td>59.503227</td>\n",
       "      <td>49.103305</td>\n",
       "      <td>63.460582</td>\n",
       "      <td>37.039465</td>\n",
       "      <td>65.250695</td>\n",
       "      <td>27.705401</td>\n",
       "      <td>...</td>\n",
       "      <td>24.013452</td>\n",
       "      <td>42.347330</td>\n",
       "      <td>46.002588</td>\n",
       "      <td>49.513558</td>\n",
       "      <td>23.622493</td>\n",
       "      <td>59.263396</td>\n",
       "      <td>21.354675</td>\n",
       "      <td>64.919305</td>\n",
       "      <td>25.885066</td>\n",
       "      <td>0</td>\n",
       "    </tr>\n",
       "    <tr>\n",
       "      <th>4</th>\n",
       "      <td>32.262629</td>\n",
       "      <td>82.385939</td>\n",
       "      <td>50.024617</td>\n",
       "      <td>64.571226</td>\n",
       "      <td>59.354234</td>\n",
       "      <td>49.609244</td>\n",
       "      <td>68.235677</td>\n",
       "      <td>40.092883</td>\n",
       "      <td>72.841859</td>\n",
       "      <td>32.333577</td>\n",
       "      <td>...</td>\n",
       "      <td>32.623309</td>\n",
       "      <td>35.665235</td>\n",
       "      <td>43.430328</td>\n",
       "      <td>49.613902</td>\n",
       "      <td>31.685278</td>\n",
       "      <td>60.642344</td>\n",
       "      <td>32.203776</td>\n",
       "      <td>67.399776</td>\n",
       "      <td>34.643734</td>\n",
       "      <td>0</td>\n",
       "    </tr>\n",
       "  </tbody>\n",
       "</table>\n",
       "<p>5 rows × 43 columns</p>\n",
       "</div>"
      ],
      "text/plain": [
       "           0          1          2          3          4          5  \\\n",
       "0  60.258842  60.067773  50.450188  60.087812  44.393954  53.818685   \n",
       "1  52.128100  67.667019  58.241397  57.265806  58.810806  44.372463   \n",
       "2  54.445529  81.516099  60.392880  63.317293  57.927614  49.702826   \n",
       "3  47.273743  83.688843  58.359176  66.002929  59.503227  49.103305   \n",
       "4  32.262629  82.385939  50.024617  64.571226  59.354234  49.609244   \n",
       "\n",
       "           6          7          8          9  ...         33         34  \\\n",
       "0  39.834005  46.800876  37.263429  41.101778  ...  36.581647  58.969092   \n",
       "1  61.129123  35.327256  60.301405  26.866227  ...  24.404177  40.061870   \n",
       "2  58.154690  39.177284  58.375996  30.351037  ...  26.893157  44.341660   \n",
       "3  63.460582  37.039465  65.250695  27.705401  ...  24.013452  42.347330   \n",
       "4  68.235677  40.092883  72.841859  32.333577  ...  32.623309  35.665235   \n",
       "\n",
       "          35         36         37         38         39         40  \\\n",
       "0  33.241946  51.468939  24.460950  45.609537  29.685414  44.517994   \n",
       "1  43.361127  43.440586  27.744901  51.131016  23.653562  55.442214   \n",
       "2  50.814241  47.390133  32.168192  53.786910  26.921341  58.256495   \n",
       "3  46.002588  49.513558  23.622493  59.263396  21.354675  64.919305   \n",
       "4  43.430328  49.613902  31.685278  60.642344  32.203776  67.399776   \n",
       "\n",
       "          41  cat  \n",
       "0  36.232677    0  \n",
       "1  25.124198    0  \n",
       "2  26.947659    0  \n",
       "3  25.885066    0  \n",
       "4  34.643734    0  \n",
       "\n",
       "[5 rows x 43 columns]"
      ]
     },
     "execution_count": 43,
     "metadata": {},
     "output_type": "execute_result"
    }
   ],
   "source": [
    "df2.head()"
   ]
  },
  {
   "cell_type": "code",
   "execution_count": 44,
   "id": "2c5f869b",
   "metadata": {},
   "outputs": [
    {
     "data": {
      "text/plain": [
       "0"
      ]
     },
     "execution_count": 44,
     "metadata": {},
     "output_type": "execute_result"
    }
   ],
   "source": [
    "df2.isnull().sum().sum()"
   ]
  },
  {
   "cell_type": "code",
   "execution_count": 45,
   "id": "d85c2363",
   "metadata": {},
   "outputs": [],
   "source": [
    "X = df2.drop('cat',axis=1)\n",
    "y = df2['cat'].values\n"
   ]
  },
  {
   "cell_type": "code",
   "execution_count": 46,
   "id": "09d48370",
   "metadata": {},
   "outputs": [],
   "source": [
    "mean = X.mean()\n",
    "_max = X.max()\n",
    "_min = X.min()\n",
    "\n",
    "X2 = (X - mean) / (_max - _min)"
   ]
  },
  {
   "cell_type": "code",
   "execution_count": 50,
   "id": "3b66b5c7",
   "metadata": {},
   "outputs": [],
   "source": [
    "xtrain , xtest , ytrain , ytest = train_test_split(X,y , test_size=0.25, random_state=42)"
   ]
  },
  {
   "cell_type": "code",
   "execution_count": 51,
   "id": "1dc85360",
   "metadata": {},
   "outputs": [
    {
     "data": {
      "text/html": [
       "<style>#sk-container-id-9 {color: black;background-color: white;}#sk-container-id-9 pre{padding: 0;}#sk-container-id-9 div.sk-toggleable {background-color: white;}#sk-container-id-9 label.sk-toggleable__label {cursor: pointer;display: block;width: 100%;margin-bottom: 0;padding: 0.3em;box-sizing: border-box;text-align: center;}#sk-container-id-9 label.sk-toggleable__label-arrow:before {content: \"▸\";float: left;margin-right: 0.25em;color: #696969;}#sk-container-id-9 label.sk-toggleable__label-arrow:hover:before {color: black;}#sk-container-id-9 div.sk-estimator:hover label.sk-toggleable__label-arrow:before {color: black;}#sk-container-id-9 div.sk-toggleable__content {max-height: 0;max-width: 0;overflow: hidden;text-align: left;background-color: #f0f8ff;}#sk-container-id-9 div.sk-toggleable__content pre {margin: 0.2em;color: black;border-radius: 0.25em;background-color: #f0f8ff;}#sk-container-id-9 input.sk-toggleable__control:checked~div.sk-toggleable__content {max-height: 200px;max-width: 100%;overflow: auto;}#sk-container-id-9 input.sk-toggleable__control:checked~label.sk-toggleable__label-arrow:before {content: \"▾\";}#sk-container-id-9 div.sk-estimator input.sk-toggleable__control:checked~label.sk-toggleable__label {background-color: #d4ebff;}#sk-container-id-9 div.sk-label input.sk-toggleable__control:checked~label.sk-toggleable__label {background-color: #d4ebff;}#sk-container-id-9 input.sk-hidden--visually {border: 0;clip: rect(1px 1px 1px 1px);clip: rect(1px, 1px, 1px, 1px);height: 1px;margin: -1px;overflow: hidden;padding: 0;position: absolute;width: 1px;}#sk-container-id-9 div.sk-estimator {font-family: monospace;background-color: #f0f8ff;border: 1px dotted black;border-radius: 0.25em;box-sizing: border-box;margin-bottom: 0.5em;}#sk-container-id-9 div.sk-estimator:hover {background-color: #d4ebff;}#sk-container-id-9 div.sk-parallel-item::after {content: \"\";width: 100%;border-bottom: 1px solid gray;flex-grow: 1;}#sk-container-id-9 div.sk-label:hover label.sk-toggleable__label {background-color: #d4ebff;}#sk-container-id-9 div.sk-serial::before {content: \"\";position: absolute;border-left: 1px solid gray;box-sizing: border-box;top: 0;bottom: 0;left: 50%;z-index: 0;}#sk-container-id-9 div.sk-serial {display: flex;flex-direction: column;align-items: center;background-color: white;padding-right: 0.2em;padding-left: 0.2em;position: relative;}#sk-container-id-9 div.sk-item {position: relative;z-index: 1;}#sk-container-id-9 div.sk-parallel {display: flex;align-items: stretch;justify-content: center;background-color: white;position: relative;}#sk-container-id-9 div.sk-item::before, #sk-container-id-9 div.sk-parallel-item::before {content: \"\";position: absolute;border-left: 1px solid gray;box-sizing: border-box;top: 0;bottom: 0;left: 50%;z-index: -1;}#sk-container-id-9 div.sk-parallel-item {display: flex;flex-direction: column;z-index: 1;position: relative;background-color: white;}#sk-container-id-9 div.sk-parallel-item:first-child::after {align-self: flex-end;width: 50%;}#sk-container-id-9 div.sk-parallel-item:last-child::after {align-self: flex-start;width: 50%;}#sk-container-id-9 div.sk-parallel-item:only-child::after {width: 0;}#sk-container-id-9 div.sk-dashed-wrapped {border: 1px dashed gray;margin: 0 0.4em 0.5em 0.4em;box-sizing: border-box;padding-bottom: 0.4em;background-color: white;}#sk-container-id-9 div.sk-label label {font-family: monospace;font-weight: bold;display: inline-block;line-height: 1.2em;}#sk-container-id-9 div.sk-label-container {text-align: center;}#sk-container-id-9 div.sk-container {/* jupyter's `normalize.less` sets `[hidden] { display: none; }` but bootstrap.min.css set `[hidden] { display: none !important; }` so we also need the `!important` here to be able to override the default hidden behavior on the sphinx rendered scikit-learn.org. See: https://github.com/scikit-learn/scikit-learn/issues/21755 */display: inline-block !important;position: relative;}#sk-container-id-9 div.sk-text-repr-fallback {display: none;}</style><div id=\"sk-container-id-9\" class=\"sk-top-container\"><div class=\"sk-text-repr-fallback\"><pre>RandomForestClassifier(random_state=42)</pre><b>In a Jupyter environment, please rerun this cell to show the HTML representation or trust the notebook. <br />On GitHub, the HTML representation is unable to render, please try loading this page with nbviewer.org.</b></div><div class=\"sk-container\" hidden><div class=\"sk-item\"><div class=\"sk-estimator sk-toggleable\"><input class=\"sk-toggleable__control sk-hidden--visually\" id=\"sk-estimator-id-9\" type=\"checkbox\" checked><label for=\"sk-estimator-id-9\" class=\"sk-toggleable__label sk-toggleable__label-arrow\">RandomForestClassifier</label><div class=\"sk-toggleable__content\"><pre>RandomForestClassifier(random_state=42)</pre></div></div></div></div></div>"
      ],
      "text/plain": [
       "RandomForestClassifier(random_state=42)"
      ]
     },
     "execution_count": 51,
     "metadata": {},
     "output_type": "execute_result"
    }
   ],
   "source": [
    "model = RandomForestClassifier(random_state=42)\n",
    "model.fit(xtrain , ytrain)"
   ]
  },
  {
   "cell_type": "code",
   "execution_count": 52,
   "id": "83536928",
   "metadata": {},
   "outputs": [
    {
     "data": {
      "text/plain": [
       "98.06"
      ]
     },
     "execution_count": 52,
     "metadata": {},
     "output_type": "execute_result"
    }
   ],
   "source": [
    "score = model.score(xtest,ytest)\n",
    "round(score*100,2)"
   ]
  },
  {
   "cell_type": "code",
   "execution_count": 63,
   "id": "ed8edd0f",
   "metadata": {},
   "outputs": [],
   "source": [
    "from sklearn.metrics import (confusion_matrix , accuracy_score , precision_score, \n",
    "                             recall_score, f1_score , classification_report )\n",
    "import matplotlib.pyplot as plt\n",
    "import seaborn as sns"
   ]
  },
  {
   "cell_type": "code",
   "execution_count": 61,
   "id": "8ff7a05e",
   "metadata": {},
   "outputs": [],
   "source": [
    "ypred = model.predict(xtest)"
   ]
  },
  {
   "cell_type": "code",
   "execution_count": 67,
   "id": "ce7d3089",
   "metadata": {},
   "outputs": [
    {
     "data": {
      "image/png": "[encoded data removed]",
      "text/plain": [
       "<Figure size 400x400 with 2 Axes>"
      ]
     },
     "metadata": {},
     "output_type": "display_data"
    }
   ],
   "source": [
    "cm = confusion_matrix(ypred,ytest)\n",
    "\n",
    "plt.figure(figsize=(4, 4))\n",
    "sns.heatmap(cm, annot=True)#, fmt='d', cmap='Blues', annot_kws={\"size\": 16}\n",
    "\n",
    "plt.xlabel('Predicted')\n",
    "plt.ylabel('Actual')\n",
    "plt.title('Confusion Matrix')\n",
    "plt.show()"
   ]
  },
  {
   "cell_type": "code",
   "execution_count": 70,
   "id": "fcb0bbf9",
   "metadata": {},
   "outputs": [
    {
     "name": "stdout",
     "output_type": "stream",
     "text": [
      "              precision    recall  f1-score   support\n",
      "\n",
      "           0       1.00      1.00      1.00        47\n",
      "           1       0.98      0.97      0.98        61\n",
      "           2       0.95      1.00      0.98        59\n",
      "           3       1.00      0.98      0.99        53\n",
      "           4       1.00      0.94      0.97        47\n",
      "           5       1.00      0.98      0.99        46\n",
      "           6       0.98      1.00      0.99        49\n",
      "           7       0.98      0.96      0.97        53\n",
      "           8       0.94      0.98      0.96        52\n",
      "           9       0.98      1.00      0.99        49\n",
      "\n",
      "    accuracy                           0.98       516\n",
      "   macro avg       0.98      0.98      0.98       516\n",
      "weighted avg       0.98      0.98      0.98       516\n",
      "\n"
     ]
    }
   ],
   "source": [
    "print(classification_report(ypred,ytest))"
   ]
  },
  {
   "cell_type": "code",
   "execution_count": 75,
   "id": "6b267cc3",
   "metadata": {},
   "outputs": [
    {
     "data": {
      "text/plain": [
       "'98.062%'"
      ]
     },
     "execution_count": 75,
     "metadata": {},
     "output_type": "execute_result"
    }
   ],
   "source": [
    "f'{round(accuracy_score(ypred,ytest)*100,3)}%'"
   ]
  },
  {
   "cell_type": "code",
   "execution_count": 68,
   "id": "35c80549",
   "metadata": {},
   "outputs": [
    {
     "name": "stdout",
     "output_type": "stream",
     "text": [
      "Cross-Validation Scores: [0.95883777 0.97578692 0.99271845 0.96359223 0.96601942]\n"
     ]
    }
   ],
   "source": [
    "from sklearn.model_selection import cross_val_score\n",
    "\n",
    "cross_val_scores = cross_val_score(model, X, y, cv=5, scoring='accuracy')\n",
    "print(\"Cross-Validation Scores:\", cross_val_scores)"
   ]
  },
  {
   "cell_type": "code",
   "execution_count": null,
   "id": "04030829",
   "metadata": {},
   "outputs": [],
   "source": []
  },
  {
   "cell_type": "code",
   "execution_count": null,
   "id": "5129345f",
   "metadata": {},
   "outputs": [],
   "source": []
  },
  {
   "cell_type": "code",
   "execution_count": null,
   "id": "39b1007f",
   "metadata": {},
   "outputs": [],
   "source": []
  },
  {
   "cell_type": "code",
   "execution_count": null,
   "id": "d1a795a9",
   "metadata": {},
   "outputs": [],
   "source": []
  }
 ],
 "metadata": {
  "kernelspec": {
   "display_name": "Python 3 (ipykernel)",
   "language": "python",
   "name": "python3"
  },
  "language_info": {
   "codemirror_mode": {
    "name": "ipython",
    "version": 3
   },
   "file_extension": ".py",
   "mimetype": "text/x-python",
   "name": "python",
   "nbconvert_exporter": "python",
   "pygments_lexer": "ipython3",
   "version": "3.9.13"
  }
 },
 "nbformat": 4,
 "nbformat_minor": 5
}
